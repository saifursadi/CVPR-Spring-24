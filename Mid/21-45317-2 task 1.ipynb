{
  "cells": [
    {
      "cell_type": "markdown",
      "source": [
        "List Operations:\n"
      ],
      "metadata": {
        "id": "LGINfCka8elc"
      }
    },
    {
      "cell_type": "code",
      "source": [
        "# Create a list of integers containing numbers from 1 to 10\n",
        "numbers = list(range(1, 11))\n",
        "\n",
        "# Use map to append the square of each number to the list\n",
        "squared_numbers = list(map(lambda x: x**2, numbers))\n",
        "numbers.extend(squared_numbers)\n",
        "\n",
        "# Find and print the sum of all elements in the list\n",
        "sum_of_elements = sum(numbers)\n",
        "print(\"List:\", numbers)\n",
        "print(\"Sum of all elements:\", sum_of_elements)\n"
      ],
      "metadata": {
        "colab": {
          "base_uri": "https://localhost:8080/"
        },
        "id": "OIKIr-DO9KFr",
        "outputId": "bf1fefb4-1cbe-4f8f-fc54-7de547804c26"
      },
      "execution_count": 1,
      "outputs": [
        {
          "output_type": "stream",
          "name": "stdout",
          "text": [
            "List: [1, 2, 3, 4, 5, 6, 7, 8, 9, 10, 1, 4, 9, 16, 25, 36, 49, 64, 81, 100]\n",
            "Sum of all elements: 440\n"
          ]
        }
      ]
    },
    {
      "cell_type": "markdown",
      "source": [
        "Tuple Operations:"
      ],
      "metadata": {
        "id": "XNyYGdCi9Qct"
      }
    },
    {
      "cell_type": "code",
      "source": [
        "# Create a tuple containing the first five even numbers\n",
        "even_numbers = (2, 4, 6, 8, 10)\n",
        "\n",
        "# Initialize the product to 1\n",
        "product_of_elements = 1\n",
        "\n",
        "# Calculate the product of all elements in the tuple\n",
        "for num in even_numbers:\n",
        "    product_of_elements *= num\n",
        "\n",
        "print(\"Tuple:\", even_numbers)\n",
        "print(\"Product of all elements:\", product_of_elements)\n"
      ],
      "metadata": {
        "colab": {
          "base_uri": "https://localhost:8080/"
        },
        "id": "8tHiajMk9bJL",
        "outputId": "ee3f7c21-fce6-40a3-9c1e-d7a06892a917"
      },
      "execution_count": 2,
      "outputs": [
        {
          "output_type": "stream",
          "name": "stdout",
          "text": [
            "Tuple: (2, 4, 6, 8, 10)\n",
            "Product of all elements: 3840\n"
          ]
        }
      ]
    },
    {
      "cell_type": "markdown",
      "source": [
        "Set Operations:"
      ],
      "metadata": {
        "id": "0BZQ_fB898NW"
      }
    },
    {
      "cell_type": "code",
      "source": [
        "# Create two sets of odd numbers between 1 to 10 using set literals\n",
        "set1 = {1, 3, 5, 7, 9}\n",
        "set2 = {1, 3, 5, 7}\n",
        "\n",
        "# Find and print the union of the two sets using the | operator\n",
        "union_set = set1 | set2\n",
        "print(\"Union of the sets:\", union_set)\n",
        "\n",
        "# Find and print the intersection of the two sets using the & operator\n",
        "intersection_set = set1 & set2\n",
        "print(\"Intersection of the sets:\", intersection_set)\n"
      ],
      "metadata": {
        "colab": {
          "base_uri": "https://localhost:8080/"
        },
        "id": "sqzEFckH97HJ",
        "outputId": "5e283cd1-8061-4585-d8a0-f02d28849696"
      },
      "execution_count": 3,
      "outputs": [
        {
          "output_type": "stream",
          "name": "stdout",
          "text": [
            "Union of the sets: {1, 3, 5, 7, 9}\n",
            "Intersection of the sets: {1, 3, 5, 7}\n"
          ]
        }
      ]
    },
    {
      "cell_type": "markdown",
      "source": [
        "\n",
        "Dictionary Operations:\n"
      ],
      "metadata": {
        "id": "JVqnmmea-h6o"
      }
    },
    {
      "cell_type": "code",
      "source": [
        "# Create a dictionary with keys as the first five lowercase alphabets and values as their respective ASCII values using a dictionary comprehension\n",
        "alphabet_dict = {char: ord(char) for char in 'abcde'}\n",
        "\n",
        "# Print the dictionary\n",
        "print(\"Dictionary:\", alphabet_dict)\n"
      ],
      "metadata": {
        "colab": {
          "base_uri": "https://localhost:8080/"
        },
        "id": "ry4Zl2Es_P61",
        "outputId": "1edccbe7-9893-4e6b-be06-3e4d18792452"
      },
      "execution_count": 4,
      "outputs": [
        {
          "output_type": "stream",
          "name": "stdout",
          "text": [
            "Dictionary: {'a': 97, 'b': 98, 'c': 99, 'd': 100, 'e': 101}\n"
          ]
        }
      ]
    },
    {
      "cell_type": "markdown",
      "source": [
        "Functional Programming:"
      ],
      "metadata": {
        "id": "lSYvPdm4BD7r"
      }
    },
    {
      "cell_type": "code",
      "source": [
        "# Use the map function with a lambda function to square each element in a list of integers from 1 to 10\n",
        "numbers = list(range(1, 11))\n",
        "squared_numbers = list(map(lambda x: x ** 2, numbers))\n",
        "\n",
        "# Print the result\n",
        "print(\"Original List:\", numbers)\n",
        "print(\"Squared List:\", squared_numbers)\n"
      ],
      "metadata": {
        "colab": {
          "base_uri": "https://localhost:8080/"
        },
        "id": "bRo2m1TABF4P",
        "outputId": "6318a14e-5638-4197-ebe9-0e0c78328af9"
      },
      "execution_count": 5,
      "outputs": [
        {
          "output_type": "stream",
          "name": "stdout",
          "text": [
            "Original List: [1, 2, 3, 4, 5, 6, 7, 8, 9, 10]\n",
            "Squared List: [1, 4, 9, 16, 25, 36, 49, 64, 81, 100]\n"
          ]
        }
      ]
    }
  ],
  "metadata": {
    "kernelspec": {
      "display_name": "Python 3",
      "language": "python",
      "name": "python3"
    },
    "language_info": {
      "codemirror_mode": {
        "name": "ipython",
        "version": 3
      },
      "file_extension": ".py",
      "mimetype": "text/x-python",
      "name": "python",
      "nbconvert_exporter": "python",
      "pygments_lexer": "ipython3",
      "version": "3.8.5"
    },
    "colab": {
      "provenance": []
    }
  },
  "nbformat": 4,
  "nbformat_minor": 0
}